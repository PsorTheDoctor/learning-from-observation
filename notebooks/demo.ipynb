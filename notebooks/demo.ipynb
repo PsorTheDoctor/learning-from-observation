{
  "nbformat": 4,
  "nbformat_minor": 0,
  "metadata": {
    "colab": {
      "provenance": [],
      "include_colab_link": true
    },
    "kernelspec": {
      "name": "python3",
      "display_name": "Python 3"
    },
    "language_info": {
      "name": "python"
    },
    "accelerator": "GPU",
    "gpuClass": "standard"
  },
  "cells": [
    {
      "cell_type": "markdown",
      "metadata": {
        "id": "view-in-github",
        "colab_type": "text"
      },
      "source": [
        "<a href=\"https://colab.research.google.com/github/PsorTheDoctor/learning-from-videos/blob/master/notebooks/demo.ipynb\" target=\"_parent\"><img src=\"https://colab.research.google.com/assets/colab-badge.svg\" alt=\"Open In Colab\"/></a>"
      ]
    },
    {
      "cell_type": "code",
      "source": [
        "!pip install -q einops pybullet"
      ],
      "metadata": {
        "id": "OdEXisQL-7No"
      },
      "execution_count": null,
      "outputs": []
    },
    {
      "cell_type": "code",
      "execution_count": null,
      "metadata": {
        "id": "27x_iZi2vaF9"
      },
      "outputs": [],
      "source": [
        "!git clone https://github.com/PsorTheDoctor/learning-from-videos.git\n",
        "%cd learning-from-videos"
      ]
    },
    {
      "cell_type": "code",
      "source": [
        "from google.colab import drive\n",
        "drive.mount('/content/drive')  # force_remount=True)"
      ],
      "metadata": {
        "id": "aqlxg7i1V3a3"
      },
      "execution_count": null,
      "outputs": []
    },
    {
      "cell_type": "markdown",
      "source": [
        "##Snake"
      ],
      "metadata": {
        "id": "drXsgLX7qqxe"
      }
    },
    {
      "cell_type": "code",
      "source": [
        "import numpy as np\n",
        "import pandas as pd\n",
        "import matplotlib.pyplot as plt \n",
        "from models.vit import DeepViT\n",
        "\n",
        "from tensorflow.python.ops.numpy_ops import np_config\n",
        "np_config.enable_numpy_behavior()\n",
        "\n",
        "\"\"\"\n",
        "COLAB SESSION USUALLY CRASHES AFTER 2800 ITERATIONS !!\n",
        "\"\"\"\n",
        "epochs = 2000  # Approx. 20 mins\n",
        "path = '../drive/MyDrive/learning-from-videos/data/snake/'\n",
        "jointsPath = path + 'train/joints.npy'\n",
        "imagesPath = path + 'train/images.npy'\n",
        "\n",
        "print(np.load(imagesPath).shape)\n",
        "print(np.load(jointsPath).shape)\n",
        "\n",
        "vit = DeepViT(\n",
        "  image_size = 256,\n",
        "  patch_size = 32,\n",
        "  num_classes = 2,\n",
        "  dim = 1024,\n",
        "  depth = 6,\n",
        "  heads = 16,\n",
        "  mlp_dim = 2048,\n",
        "  dropout = 0.1,\n",
        "  emb_dropout = 0.1\n",
        ")\n",
        "historySnake = vit.fit(epochs, jointsPath, imagesPath)"
      ],
      "metadata": {
        "id": "_fkiTCkSwM8T"
      },
      "execution_count": null,
      "outputs": []
    },
    {
      "cell_type": "code",
      "source": [
        "plt.plot(historySnake['loss'])\n",
        "plt.plot(historySnake['val_loss'])\n",
        "plt.title('Snake - training loss')\n",
        "plt.xlabel('Epochs')\n",
        "plt.ylabel('Loss')"
      ],
      "metadata": {
        "id": "V_tDrYOqwAwW"
      },
      "execution_count": null,
      "outputs": []
    },
    {
      "cell_type": "code",
      "source": [
        "testImages = np.load(path + 'test/images.npy')\n",
        "testJoints = np.load(path + 'test/joints.npy')\n",
        "predJoints = vit(testImages)\n",
        "\n",
        "pred = pd.concat([pd.DataFrame(np.squeeze(predJoints), columns=['pred_joint_1', 'pred_joint_2']),\n",
        "                  pd.DataFrame(np.squeeze(testJoints), columns=['true_joint_1', 'true_joint_2']),\n",
        "                  pd.DataFrame(np.squeeze(abs(predJoints - testJoints)), \n",
        "                               columns=['error_joint_1', 'error_joint_2'])], axis=1)\n",
        "pred.head()"
      ],
      "metadata": {
        "colab": {
          "base_uri": "https://localhost:8080/",
          "height": 206
        },
        "id": "WkDaIf8oev0_",
        "outputId": "eb925c01-1399-458e-9c45-236fb1c28990"
      },
      "execution_count": null,
      "outputs": [
        {
          "output_type": "execute_result",
          "data": {
            "text/plain": [
              "   pred_joint_1  pred_joint_2  true_joint_1  true_joint_2  error_joint_1  \\\n",
              "0      0.030153     -0.321752      0.138451     -0.436834      -0.108298   \n",
              "1      0.250717      0.681537     -0.322989     -0.448802       0.573706   \n",
              "2     -0.267380     -0.066378     -0.220496     -0.105339      -0.046884   \n",
              "3      0.089845     -0.406701      0.050451      0.323267       0.039394   \n",
              "4      0.776326     -0.062977      0.404573      0.645838       0.371753   \n",
              "\n",
              "   error_joint_2  \n",
              "0       0.115081  \n",
              "1       1.130339  \n",
              "2       0.038961  \n",
              "3      -0.729968  \n",
              "4      -0.708816  "
            ],
            "text/html": [
              "\n",
              "  <div id=\"df-0e4b1a0a-97f9-4ecd-b1e6-3ff368699263\">\n",
              "    <div class=\"colab-df-container\">\n",
              "      <div>\n",
              "<style scoped>\n",
              "    .dataframe tbody tr th:only-of-type {\n",
              "        vertical-align: middle;\n",
              "    }\n",
              "\n",
              "    .dataframe tbody tr th {\n",
              "        vertical-align: top;\n",
              "    }\n",
              "\n",
              "    .dataframe thead th {\n",
              "        text-align: right;\n",
              "    }\n",
              "</style>\n",
              "<table border=\"1\" class=\"dataframe\">\n",
              "  <thead>\n",
              "    <tr style=\"text-align: right;\">\n",
              "      <th></th>\n",
              "      <th>pred_joint_1</th>\n",
              "      <th>pred_joint_2</th>\n",
              "      <th>true_joint_1</th>\n",
              "      <th>true_joint_2</th>\n",
              "      <th>error_joint_1</th>\n",
              "      <th>error_joint_2</th>\n",
              "    </tr>\n",
              "  </thead>\n",
              "  <tbody>\n",
              "    <tr>\n",
              "      <th>0</th>\n",
              "      <td>0.030153</td>\n",
              "      <td>-0.321752</td>\n",
              "      <td>0.138451</td>\n",
              "      <td>-0.436834</td>\n",
              "      <td>-0.108298</td>\n",
              "      <td>0.115081</td>\n",
              "    </tr>\n",
              "    <tr>\n",
              "      <th>1</th>\n",
              "      <td>0.250717</td>\n",
              "      <td>0.681537</td>\n",
              "      <td>-0.322989</td>\n",
              "      <td>-0.448802</td>\n",
              "      <td>0.573706</td>\n",
              "      <td>1.130339</td>\n",
              "    </tr>\n",
              "    <tr>\n",
              "      <th>2</th>\n",
              "      <td>-0.267380</td>\n",
              "      <td>-0.066378</td>\n",
              "      <td>-0.220496</td>\n",
              "      <td>-0.105339</td>\n",
              "      <td>-0.046884</td>\n",
              "      <td>0.038961</td>\n",
              "    </tr>\n",
              "    <tr>\n",
              "      <th>3</th>\n",
              "      <td>0.089845</td>\n",
              "      <td>-0.406701</td>\n",
              "      <td>0.050451</td>\n",
              "      <td>0.323267</td>\n",
              "      <td>0.039394</td>\n",
              "      <td>-0.729968</td>\n",
              "    </tr>\n",
              "    <tr>\n",
              "      <th>4</th>\n",
              "      <td>0.776326</td>\n",
              "      <td>-0.062977</td>\n",
              "      <td>0.404573</td>\n",
              "      <td>0.645838</td>\n",
              "      <td>0.371753</td>\n",
              "      <td>-0.708816</td>\n",
              "    </tr>\n",
              "  </tbody>\n",
              "</table>\n",
              "</div>\n",
              "      <button class=\"colab-df-convert\" onclick=\"convertToInteractive('df-0e4b1a0a-97f9-4ecd-b1e6-3ff368699263')\"\n",
              "              title=\"Convert this dataframe to an interactive table.\"\n",
              "              style=\"display:none;\">\n",
              "        \n",
              "  <svg xmlns=\"http://www.w3.org/2000/svg\" height=\"24px\"viewBox=\"0 0 24 24\"\n",
              "       width=\"24px\">\n",
              "    <path d=\"M0 0h24v24H0V0z\" fill=\"none\"/>\n",
              "    <path d=\"M18.56 5.44l.94 2.06.94-2.06 2.06-.94-2.06-.94-.94-2.06-.94 2.06-2.06.94zm-11 1L8.5 8.5l.94-2.06 2.06-.94-2.06-.94L8.5 2.5l-.94 2.06-2.06.94zm10 10l.94 2.06.94-2.06 2.06-.94-2.06-.94-.94-2.06-.94 2.06-2.06.94z\"/><path d=\"M17.41 7.96l-1.37-1.37c-.4-.4-.92-.59-1.43-.59-.52 0-1.04.2-1.43.59L10.3 9.45l-7.72 7.72c-.78.78-.78 2.05 0 2.83L4 21.41c.39.39.9.59 1.41.59.51 0 1.02-.2 1.41-.59l7.78-7.78 2.81-2.81c.8-.78.8-2.07 0-2.86zM5.41 20L4 18.59l7.72-7.72 1.47 1.35L5.41 20z\"/>\n",
              "  </svg>\n",
              "      </button>\n",
              "      \n",
              "  <style>\n",
              "    .colab-df-container {\n",
              "      display:flex;\n",
              "      flex-wrap:wrap;\n",
              "      gap: 12px;\n",
              "    }\n",
              "\n",
              "    .colab-df-convert {\n",
              "      background-color: #E8F0FE;\n",
              "      border: none;\n",
              "      border-radius: 50%;\n",
              "      cursor: pointer;\n",
              "      display: none;\n",
              "      fill: #1967D2;\n",
              "      height: 32px;\n",
              "      padding: 0 0 0 0;\n",
              "      width: 32px;\n",
              "    }\n",
              "\n",
              "    .colab-df-convert:hover {\n",
              "      background-color: #E2EBFA;\n",
              "      box-shadow: 0px 1px 2px rgba(60, 64, 67, 0.3), 0px 1px 3px 1px rgba(60, 64, 67, 0.15);\n",
              "      fill: #174EA6;\n",
              "    }\n",
              "\n",
              "    [theme=dark] .colab-df-convert {\n",
              "      background-color: #3B4455;\n",
              "      fill: #D2E3FC;\n",
              "    }\n",
              "\n",
              "    [theme=dark] .colab-df-convert:hover {\n",
              "      background-color: #434B5C;\n",
              "      box-shadow: 0px 1px 3px 1px rgba(0, 0, 0, 0.15);\n",
              "      filter: drop-shadow(0px 1px 2px rgba(0, 0, 0, 0.3));\n",
              "      fill: #FFFFFF;\n",
              "    }\n",
              "  </style>\n",
              "\n",
              "      <script>\n",
              "        const buttonEl =\n",
              "          document.querySelector('#df-0e4b1a0a-97f9-4ecd-b1e6-3ff368699263 button.colab-df-convert');\n",
              "        buttonEl.style.display =\n",
              "          google.colab.kernel.accessAllowed ? 'block' : 'none';\n",
              "\n",
              "        async function convertToInteractive(key) {\n",
              "          const element = document.querySelector('#df-0e4b1a0a-97f9-4ecd-b1e6-3ff368699263');\n",
              "          const dataTable =\n",
              "            await google.colab.kernel.invokeFunction('convertToInteractive',\n",
              "                                                     [key], {});\n",
              "          if (!dataTable) return;\n",
              "\n",
              "          const docLinkHtml = 'Like what you see? Visit the ' +\n",
              "            '<a target=\"_blank\" href=https://colab.research.google.com/notebooks/data_table.ipynb>data table notebook</a>'\n",
              "            + ' to learn more about interactive tables.';\n",
              "          element.innerHTML = '';\n",
              "          dataTable['output_type'] = 'display_data';\n",
              "          await google.colab.output.renderOutput(dataTable, element);\n",
              "          const docLink = document.createElement('div');\n",
              "          docLink.innerHTML = docLinkHtml;\n",
              "          element.appendChild(docLink);\n",
              "        }\n",
              "      </script>\n",
              "    </div>\n",
              "  </div>\n",
              "  "
            ]
          },
          "metadata": {},
          "execution_count": 7
        }
      ]
    },
    {
      "cell_type": "markdown",
      "source": [
        "#Turtle"
      ],
      "metadata": {
        "id": "h1wluZoiqvvt"
      }
    },
    {
      "cell_type": "code",
      "source": [
        "path = '../drive/MyDrive/data/turtle/'\n",
        "jointsPath = path + 'train/joints.npy'\n",
        "imagesPath = path + 'train/images.npy'\n",
        "\n",
        "vit = DeepViT(\n",
        "  image_size = 256,\n",
        "  patch_size = 32,\n",
        "  num_classes = 4,\n",
        "  dim = 1024,\n",
        "  depth = 6,\n",
        "  heads = 16,\n",
        "  mlp_dim = 2048,\n",
        "  dropout = 0.1,\n",
        "  emb_dropout = 0.1\n",
        ")\n",
        "historyTurtle = vit.fit(epochs, jointsPath, imagesPath)"
      ],
      "metadata": {
        "id": "7Kv9-l_Gqwj8"
      },
      "execution_count": null,
      "outputs": []
    },
    {
      "cell_type": "code",
      "source": [
        "plt.plot(historyTurtle['loss'])\n",
        "plt.plot(historyTurtle['val_loss'])\n",
        "plt.title('Turtle - training loss')\n",
        "plt.xlabel('Epochs')\n",
        "plt.ylabel('Loss')"
      ],
      "metadata": {
        "id": "KUIjxNgjrj8r"
      },
      "execution_count": null,
      "outputs": []
    },
    {
      "cell_type": "code",
      "source": [
        "testImages = np.load(path + 'test/images.npy')\n",
        "testJoints = np.load(path + 'test/joints.npy')\n",
        "predJoints = vit(testImages)\n",
        "\n",
        "pred = pd.concat([pd.DataFrame(np.squeeze(predJoints), \n",
        "                               columns=['pred_joint_1', 'pred_joint_2', 'pred_joint_3', 'pred_joint_4']),\n",
        "                  pd.DataFrame(np.squeeze(testJoints), \n",
        "                               columns=['true_joint_1', 'true_joint_2', 'true_joint_3', 'true_joint_4']),\n",
        "                  pd.DataFrame(np.squeeze(abs(predJoints - testJoints)), \n",
        "                               columns=['error_joint_1', 'error_joint_2'])], axis=1)\n",
        "pred.head()"
      ],
      "metadata": {
        "id": "_8MxswCzp8K4"
      },
      "execution_count": null,
      "outputs": []
    }
  ]
}